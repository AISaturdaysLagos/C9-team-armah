{
 "cells": [
  {
   "cell_type": "code",
   "execution_count": 8,
   "id": "ebfbbed3",
   "metadata": {},
   "outputs": [],
   "source": [
    "import logging\n",
    "logger = logging.getLogger(\"spacy\")\n",
    "logger.setLevel(logging.ERROR)\n",
    "\n",
    "import dask.bag as db\n",
    "import json\n",
    "import pandas as pd\n",
    "\n",
    "docs = db.read_text('../data/raw/arxiv-metadata-oai-snapshot.json').map(json.loads)"
   ]
  },
  {
   "cell_type": "code",
   "execution_count": 9,
   "id": "69565aab",
   "metadata": {},
   "outputs": [],
   "source": [
    "# Total number of documents\n",
    "total_docs = docs.count().compute()"
   ]
  },
  {
   "cell_type": "code",
   "execution_count": 10,
   "id": "4e7ad8c2",
   "metadata": {},
   "outputs": [
    {
     "name": "stdout",
     "output_type": "stream",
     "text": [
      "2860945\n"
     ]
    }
   ],
   "source": [
    "print(total_docs)"
   ]
  },
  {
   "cell_type": "code",
   "execution_count": 11,
   "id": "874874d6",
   "metadata": {},
   "outputs": [
    {
     "data": {
      "text/plain": [
       "({'id': '0704.0001',\n",
       "  'submitter': 'Pavel Nadolsky',\n",
       "  'authors': \"C. Bal\\\\'azs, E. L. Berger, P. M. Nadolsky, C.-P. Yuan\",\n",
       "  'title': 'Calculation of prompt diphoton production cross sections at Tevatron and\\n  LHC energies',\n",
       "  'comments': '37 pages, 15 figures; published version',\n",
       "  'journal-ref': 'Phys.Rev.D76:013009,2007',\n",
       "  'doi': '10.1103/PhysRevD.76.013009',\n",
       "  'report-no': 'ANL-HEP-PR-07-12',\n",
       "  'categories': 'hep-ph',\n",
       "  'license': None,\n",
       "  'abstract': '  A fully differential calculation in perturbative quantum chromodynamics is\\npresented for the production of massive photon pairs at hadron colliders. All\\nnext-to-leading order perturbative contributions from quark-antiquark,\\ngluon-(anti)quark, and gluon-gluon subprocesses are included, as well as\\nall-orders resummation of initial-state gluon radiation valid at\\nnext-to-next-to-leading logarithmic accuracy. The region of phase space is\\nspecified in which the calculation is most reliable. Good agreement is\\ndemonstrated with data from the Fermilab Tevatron, and predictions are made for\\nmore detailed tests with CDF and DO data. Predictions are shown for\\ndistributions of diphoton pairs produced at the energy of the Large Hadron\\nCollider (LHC). Distributions of the diphoton pairs from the decay of a Higgs\\nboson are contrasted with those produced from QCD processes at the LHC, showing\\nthat enhanced sensitivity to the signal can be obtained with judicious\\nselection of events.\\n',\n",
       "  'versions': [{'version': 'v1', 'created': 'Mon, 2 Apr 2007 19:18:42 GMT'},\n",
       "   {'version': 'v2', 'created': 'Tue, 24 Jul 2007 20:10:27 GMT'}],\n",
       "  'update_date': '2008-11-26',\n",
       "  'authors_parsed': [['Balázs', 'C.', ''],\n",
       "   ['Berger', 'E. L.', ''],\n",
       "   ['Nadolsky', 'P. M.', ''],\n",
       "   ['Yuan', 'C. -P.', '']]},)"
      ]
     },
     "execution_count": 11,
     "metadata": {},
     "output_type": "execute_result"
    }
   ],
   "source": [
    "# Looking at one document:\n",
    "docs.take(1)"
   ]
  },
  {
   "cell_type": "code",
   "execution_count": 12,
   "id": "2f7a0496",
   "metadata": {},
   "outputs": [],
   "source": [
    "# The dataset is very huge. Not sure if the whole set can be used. Let's start with a subset of the data.\n",
    "# This procedure was recommended in the ArXiv dataset itself\n",
    "\n",
    "get_latest_version = lambda x: x['versions'][-1]['created']\n",
    "\n",
    "# get only necessary fields of the metadata file\n",
    "trim = lambda x: {'id': x['id'],\n",
    "                  'authors': x['authors'],\n",
    "                  'title': x['title'],\n",
    "                  'doi': x['doi'],\n",
    "                  'category': x['categories'].split(' '),\n",
    "                  'abstract': x['abstract'],}\n",
    "\n",
    "# filter for papers published on or after 2019-01-01\n",
    "columns = ['id', 'category', 'abstract']\n",
    "docs_df = (docs.filter(lambda x: int(get_latest_version(x).split(' ')[3]) >2018)\n",
    "           .map(trim).\n",
    "           compute())\n",
    "\n",
    "# convert to pandas\n",
    "docs_df = pd.DataFrame(docs_df)"
   ]
  },
  {
   "cell_type": "code",
   "execution_count": 13,
   "id": "5c487603",
   "metadata": {},
   "outputs": [],
   "source": [
    "# Save trimmed dataset\n",
    "docs_df.to_csv('../data/processed/trimmed_arxiv_doc_2018.csv', index=False)"
   ]
  },
  {
   "cell_type": "code",
   "execution_count": 18,
   "id": "fdfcc860",
   "metadata": {},
   "outputs": [
    {
     "data": {
      "application/vnd.microsoft.datawrangler.viewer.v0+json": {
       "columns": [
        {
         "name": "index",
         "rawType": "int64",
         "type": "integer"
        },
        {
         "name": "id",
         "rawType": "object",
         "type": "string"
        },
        {
         "name": "authors",
         "rawType": "object",
         "type": "string"
        },
        {
         "name": "title",
         "rawType": "object",
         "type": "string"
        },
        {
         "name": "doi",
         "rawType": "object",
         "type": "unknown"
        },
        {
         "name": "category",
         "rawType": "object",
         "type": "unknown"
        },
        {
         "name": "abstract",
         "rawType": "object",
         "type": "string"
        }
       ],
       "ref": "2510b5c5-7f39-4d42-92b6-275abebfee9a",
       "rows": [
        [
         "0",
         "0704.0033",
         "Maxim A. Yurkin, Valeri P. Maltsev, Alfons G. Hoekstra",
         "Convergence of the discrete dipole approximation. I. Theoretical\n  analysis",
         "10.1364/JOSAA.23.002578 10.1364/JOSAA.32.002407",
         "['physics.optics', 'physics.comp-ph']",
         "  We performed a rigorous theoretical convergence analysis of the discrete\ndipole approximation (DDA). We prove that errors in any measured quantity are\nbounded by a sum of a linear and quadratic term in the size of a dipole d, when\nthe latter is in the range of DDA applicability. Moreover, the linear term is\nsignificantly smaller for cubically than for non-cubically shaped scatterers.\nTherefore, for small d errors for cubically shaped particles are much smaller\nthan for non-cubically shaped. The relative importance of the linear term\ndecreases with increasing size, hence convergence of DDA for large enough\nscatterers is quadratic in the common range of d. Extensive numerical\nsimulations were carried out for a wide range of d. Finally we discuss a number\nof new developments in DDA and their consequences for convergence.\n"
        ],
        [
         "1",
         "0704.0038",
         "Maxim A. Yurkin, Alfons G. Hoekstra",
         "The discrete dipole approximation: an overview and recent developments",
         "10.1016/j.jqsrt.2007.01.034 10.1016/j.jqsrt.2015.11.025",
         "['physics.optics', 'physics.comp-ph']",
         "  We present a review of the discrete dipole approximation (DDA), which is a\ngeneral method to simulate light scattering by arbitrarily shaped particles. We\nput the method in historical context and discuss recent developments, taking\nthe viewpoint of a general framework based on the integral equations for the\nelectric field. We review both the theory of the DDA and its numerical aspects,\nthe latter being of critical importance for any practical application of the\nmethod. Finally, the position of the DDA among other methods of light\nscattering simulation is shown and possible future developments are discussed.\n"
        ],
        [
         "2",
         "0704.0479",
         "T.Geisser",
         "The affine part of the Picard scheme",
         null,
         "['math.AG', 'math.KT']",
         "  We describe the maximal torus and maximal unipotent subgroup of the Picard\nvariety of a proper scheme over a perfect field.\n"
        ],
        [
         "3",
         "0704.1445",
         "Yasha Gindikin and Vladimir A. Sablikov",
         "Deformed Wigner crystal in a one-dimensional quantum dot",
         "10.1103/PhysRevB.76.045122",
         "['cond-mat.str-el', 'cond-mat.mes-hall']",
         "  The spatial Fourier spectrum of the electron density distribution in a finite\n1D system and the distribution function of electrons over single-particle\nstates are studied in detail to show that there are two universal features in\ntheir behavior, which characterize the electron ordering and the deformation of\nWigner crystal by boundaries. The distribution function has a $\\delta$-like\nsingularity at the Fermi momentum $k_F$. The Fourier spectrum of the density\nhas a step-like form at the wavevector $2k_F$, with the harmonics being absent\nor vanishing above this threshold. These features are found by calculations\nusing exact diagonalization method. They are shown to be caused by Wigner\nordering of electrons, affected by the boundaries. However the common Luttinger\nliquid model with open boundaries fails to capture these features, because it\noverestimates the deformation of the Wigner crystal. An improvement of the\nLuttinger liquid model is proposed which allows one to describe the above\nfeatures correctly. It is based on the corrected form of the density operator\nconserving the particle number.\n"
        ],
        [
         "4",
         "0704.1476",
         "Chris Austin",
         "TeV-scale gravity in Horava-Witten theory on a compact complex\n  hyperbolic threefold",
         null,
         "['hep-th']",
         "  The field equations and boundary conditions of Horava-Witten theory,\ncompactified on a smooth compact spin quotient of CH^3, where CH^3 denotes the\nhyperbolic cousin of CP^3, are studied in the presence of Casimir energy\ndensity terms. If the Casimir energy densities near one boundary result in a\ncertain constant of integration taking a value greater than around 10^5 in\nunits of the d = 11 gravitational length, a form of thick pipe geometry is\nfound that realizes TeV-scale gravity by the ADD mechanism, with that boundary\nbecoming the inner surface of the thick pipe, where we live. Three alternative\nways in which the outer surface of the thick pipe might be stabilized\nconsistent with the observed value of the effective d = 4 cosmological constant\nare considered. In the first alternative, the outer surface is stabilized in\nthe classical region and the constant of integration is fixed at around 10^{13}\nin units of the d = 11 gravitational length for consistency with the observed\ncosmological constant. In the second alternative, the four observed dimensions\nhave reduced in size down to the d = 11 gravitational length at the outer\nsurface, and there are Casimir effects near the outer surface. In the third\nalternative, the outer surface is stabilized in the classical region by extra\nfluxes of the three-form gauge field, whose four-form field strength wraps\nthree-cycles of the compact six-manifold times the radial dimension of the\nthick pipe. Some problems related to fitting the strong/electroweak Standard\nModel are considered.\n"
        ],
        [
         "5",
         "0704.2253",
         "William T. Reach, Michael S. Kelley, Mark V. Sykes",
         "A survey of debris trails from short-period comets",
         "10.1016/j.icarus.2007.03.031",
         "['astro-ph']",
         "  We observed 34 comets using the 24 micron camera on the Spitzer Space\nTelescope. Each image contains the nucleus and covers at least 10^6 km of each\ncomet's orbit. Debris trails due to mm-sized or larger particles were found\nalong the orbits of 27 comets; 4 comets had small-particle dust tails and a\nviewing geometry that made debris trails impossible to distinguish; and only 3\nhad no debris trail despite favorable observing conditions. There are now 30\nJupiter-family comets with known debris trails, of which 22 are reported in\nthis paper for the first time. The detection rate is >80%, indicating that\ndebris trails are a generic feature of short-period comets. By comparison to\norbital calculations for particles of a range of sizes ejected over 2 yr prior\nto observation, we find that particles comprising 4 debris trails are typically\nmm-sized while the remainder of the debris trails require particles larger than\nthis. The lower-limit masses of the debris trails are typically 10^11 g, and\nthe median mass loss rate is 2 kg/s. The mass-loss rate in trail particles is\ncomparable to that inferred from OH production rates and larger than that\ninferred from visible-light scattering in comae.\n"
        ],
        [
         "6",
         "0705.0033",
         "Nikos Frantzikinakis, Randall McCutcheon",
         "Ergodic Theory: Recurrence",
         null,
         "['math.DS']",
         "  We survey the impact of the Poincar\\'e recurrence principle in ergodic\ntheory, especially as pertains to the field of ergodic Ramsey theory.\n"
        ],
        [
         "7",
         "0705.0344",
         "J. P. Pridham",
         "Unifying derived deformation theories",
         null,
         "['math.AG']",
         "  We develop a framework for derived deformation theory, valid in all\ncharacteristics. This gives a model category reconciling local and global\napproaches to derived moduli theory. In characteristic 0, we use this to show\nthat the homotopy categories of DGLAs and SHLAs (L infinity algebras)\nconsidered by Kontsevich, Hinich and Manetti are equivalent, and are compatible\nwith the derived stacks of Toen--Vezzosi and Lurie. Another application is that\nthe cohomology groups associated to any classical deformation problem (in any\ncharacteristic) admit the same operations as Andre--Quillen cohomology.\n"
        ],
        [
         "8",
         "0705.0825",
         "Ram Gopal Vishwakarma (Zacatecas University)",
         "Einstein's Theory of Gravity in the Presence of Pressure: A Review",
         "10.1007/s10509-009-0016-8",
         "['gr-qc', 'astro-ph', 'hep-th']",
         "  The mysterious `dark energy' needed to explain the current observations,\nposes a serious confrontation between fundamental physics and cosmology. The\npresent crisis may be an outcome of the (so far untested) prediction of the\ngeneral theory of relativity that the pressure of the matter source also\ngravitates. In this view, a theoretical analysis reveals some surprising\ninconsistencies and paradoxes faced by the energy-stress tensor (in the\npresence of pressure) which is used to model the matter content of the\nuniverse, including dark energy.\n"
        ],
        [
         "9",
         "0705.1155",
         "Kerry M. Soileau",
         "State Vector Determination By A Single Tracking Satellite",
         null,
         "['astro-ph']",
         "  Using only a single tracking satellite capable of only range measurements to\nan orbiting object in an unknown Keplerian orbit, it is theoretically possible\nto calculate the orbit and a current state vector. In this paper we derive an\nalgorithm that can perform this calculation.\n"
        ]
       ],
       "shape": {
        "columns": 6,
        "rows": 10
       }
      },
      "text/html": [
       "<div>\n",
       "<style scoped>\n",
       "    .dataframe tbody tr th:only-of-type {\n",
       "        vertical-align: middle;\n",
       "    }\n",
       "\n",
       "    .dataframe tbody tr th {\n",
       "        vertical-align: top;\n",
       "    }\n",
       "\n",
       "    .dataframe thead th {\n",
       "        text-align: right;\n",
       "    }\n",
       "</style>\n",
       "<table border=\"1\" class=\"dataframe\">\n",
       "  <thead>\n",
       "    <tr style=\"text-align: right;\">\n",
       "      <th></th>\n",
       "      <th>id</th>\n",
       "      <th>authors</th>\n",
       "      <th>title</th>\n",
       "      <th>doi</th>\n",
       "      <th>category</th>\n",
       "      <th>abstract</th>\n",
       "    </tr>\n",
       "  </thead>\n",
       "  <tbody>\n",
       "    <tr>\n",
       "      <th>0</th>\n",
       "      <td>0704.0033</td>\n",
       "      <td>Maxim A. Yurkin, Valeri P. Maltsev, Alfons G. ...</td>\n",
       "      <td>Convergence of the discrete dipole approximati...</td>\n",
       "      <td>10.1364/JOSAA.23.002578 10.1364/JOSAA.32.002407</td>\n",
       "      <td>[physics.optics, physics.comp-ph]</td>\n",
       "      <td>We performed a rigorous theoretical converge...</td>\n",
       "    </tr>\n",
       "    <tr>\n",
       "      <th>1</th>\n",
       "      <td>0704.0038</td>\n",
       "      <td>Maxim A. Yurkin, Alfons G. Hoekstra</td>\n",
       "      <td>The discrete dipole approximation: an overview...</td>\n",
       "      <td>10.1016/j.jqsrt.2007.01.034 10.1016/j.jqsrt.20...</td>\n",
       "      <td>[physics.optics, physics.comp-ph]</td>\n",
       "      <td>We present a review of the discrete dipole a...</td>\n",
       "    </tr>\n",
       "    <tr>\n",
       "      <th>2</th>\n",
       "      <td>0704.0479</td>\n",
       "      <td>T.Geisser</td>\n",
       "      <td>The affine part of the Picard scheme</td>\n",
       "      <td>None</td>\n",
       "      <td>[math.AG, math.KT]</td>\n",
       "      <td>We describe the maximal torus and maximal un...</td>\n",
       "    </tr>\n",
       "    <tr>\n",
       "      <th>3</th>\n",
       "      <td>0704.1445</td>\n",
       "      <td>Yasha Gindikin and Vladimir A. Sablikov</td>\n",
       "      <td>Deformed Wigner crystal in a one-dimensional q...</td>\n",
       "      <td>10.1103/PhysRevB.76.045122</td>\n",
       "      <td>[cond-mat.str-el, cond-mat.mes-hall]</td>\n",
       "      <td>The spatial Fourier spectrum of the electron...</td>\n",
       "    </tr>\n",
       "    <tr>\n",
       "      <th>4</th>\n",
       "      <td>0704.1476</td>\n",
       "      <td>Chris Austin</td>\n",
       "      <td>TeV-scale gravity in Horava-Witten theory on a...</td>\n",
       "      <td>None</td>\n",
       "      <td>[hep-th]</td>\n",
       "      <td>The field equations and boundary conditions ...</td>\n",
       "    </tr>\n",
       "    <tr>\n",
       "      <th>5</th>\n",
       "      <td>0704.2253</td>\n",
       "      <td>William T. Reach, Michael S. Kelley, Mark V. S...</td>\n",
       "      <td>A survey of debris trails from short-period co...</td>\n",
       "      <td>10.1016/j.icarus.2007.03.031</td>\n",
       "      <td>[astro-ph]</td>\n",
       "      <td>We observed 34 comets using the 24 micron ca...</td>\n",
       "    </tr>\n",
       "    <tr>\n",
       "      <th>6</th>\n",
       "      <td>0705.0033</td>\n",
       "      <td>Nikos Frantzikinakis, Randall McCutcheon</td>\n",
       "      <td>Ergodic Theory: Recurrence</td>\n",
       "      <td>None</td>\n",
       "      <td>[math.DS]</td>\n",
       "      <td>We survey the impact of the Poincar\\'e recur...</td>\n",
       "    </tr>\n",
       "    <tr>\n",
       "      <th>7</th>\n",
       "      <td>0705.0344</td>\n",
       "      <td>J. P. Pridham</td>\n",
       "      <td>Unifying derived deformation theories</td>\n",
       "      <td>None</td>\n",
       "      <td>[math.AG]</td>\n",
       "      <td>We develop a framework for derived deformati...</td>\n",
       "    </tr>\n",
       "    <tr>\n",
       "      <th>8</th>\n",
       "      <td>0705.0825</td>\n",
       "      <td>Ram Gopal Vishwakarma (Zacatecas University)</td>\n",
       "      <td>Einstein's Theory of Gravity in the Presence o...</td>\n",
       "      <td>10.1007/s10509-009-0016-8</td>\n",
       "      <td>[gr-qc, astro-ph, hep-th]</td>\n",
       "      <td>The mysterious `dark energy' needed to expla...</td>\n",
       "    </tr>\n",
       "    <tr>\n",
       "      <th>9</th>\n",
       "      <td>0705.1155</td>\n",
       "      <td>Kerry M. Soileau</td>\n",
       "      <td>State Vector Determination By A Single Trackin...</td>\n",
       "      <td>None</td>\n",
       "      <td>[astro-ph]</td>\n",
       "      <td>Using only a single tracking satellite capab...</td>\n",
       "    </tr>\n",
       "  </tbody>\n",
       "</table>\n",
       "</div>"
      ],
      "text/plain": [
       "          id                                            authors  \\\n",
       "0  0704.0033  Maxim A. Yurkin, Valeri P. Maltsev, Alfons G. ...   \n",
       "1  0704.0038                Maxim A. Yurkin, Alfons G. Hoekstra   \n",
       "2  0704.0479                                          T.Geisser   \n",
       "3  0704.1445            Yasha Gindikin and Vladimir A. Sablikov   \n",
       "4  0704.1476                                       Chris Austin   \n",
       "5  0704.2253  William T. Reach, Michael S. Kelley, Mark V. S...   \n",
       "6  0705.0033           Nikos Frantzikinakis, Randall McCutcheon   \n",
       "7  0705.0344                                      J. P. Pridham   \n",
       "8  0705.0825       Ram Gopal Vishwakarma (Zacatecas University)   \n",
       "9  0705.1155                                   Kerry M. Soileau   \n",
       "\n",
       "                                               title  \\\n",
       "0  Convergence of the discrete dipole approximati...   \n",
       "1  The discrete dipole approximation: an overview...   \n",
       "2               The affine part of the Picard scheme   \n",
       "3  Deformed Wigner crystal in a one-dimensional q...   \n",
       "4  TeV-scale gravity in Horava-Witten theory on a...   \n",
       "5  A survey of debris trails from short-period co...   \n",
       "6                         Ergodic Theory: Recurrence   \n",
       "7              Unifying derived deformation theories   \n",
       "8  Einstein's Theory of Gravity in the Presence o...   \n",
       "9  State Vector Determination By A Single Trackin...   \n",
       "\n",
       "                                                 doi  \\\n",
       "0    10.1364/JOSAA.23.002578 10.1364/JOSAA.32.002407   \n",
       "1  10.1016/j.jqsrt.2007.01.034 10.1016/j.jqsrt.20...   \n",
       "2                                               None   \n",
       "3                         10.1103/PhysRevB.76.045122   \n",
       "4                                               None   \n",
       "5                       10.1016/j.icarus.2007.03.031   \n",
       "6                                               None   \n",
       "7                                               None   \n",
       "8                          10.1007/s10509-009-0016-8   \n",
       "9                                               None   \n",
       "\n",
       "                               category  \\\n",
       "0     [physics.optics, physics.comp-ph]   \n",
       "1     [physics.optics, physics.comp-ph]   \n",
       "2                    [math.AG, math.KT]   \n",
       "3  [cond-mat.str-el, cond-mat.mes-hall]   \n",
       "4                              [hep-th]   \n",
       "5                            [astro-ph]   \n",
       "6                             [math.DS]   \n",
       "7                             [math.AG]   \n",
       "8             [gr-qc, astro-ph, hep-th]   \n",
       "9                            [astro-ph]   \n",
       "\n",
       "                                            abstract  \n",
       "0    We performed a rigorous theoretical converge...  \n",
       "1    We present a review of the discrete dipole a...  \n",
       "2    We describe the maximal torus and maximal un...  \n",
       "3    The spatial Fourier spectrum of the electron...  \n",
       "4    The field equations and boundary conditions ...  \n",
       "5    We observed 34 comets using the 24 micron ca...  \n",
       "6    We survey the impact of the Poincar\\'e recur...  \n",
       "7    We develop a framework for derived deformati...  \n",
       "8    The mysterious `dark energy' needed to expla...  \n",
       "9    Using only a single tracking satellite capab...  "
      ]
     },
     "execution_count": 18,
     "metadata": {},
     "output_type": "execute_result"
    }
   ],
   "source": [
    "docs_df.head(10)"
   ]
  },
  {
   "cell_type": "code",
   "execution_count": null,
   "id": "e1853e38",
   "metadata": {},
   "outputs": [],
   "source": []
  }
 ],
 "metadata": {
  "kernelspec": {
   "display_name": ".venv (3.13.6)",
   "language": "python",
   "name": "python3"
  },
  "language_info": {
   "codemirror_mode": {
    "name": "ipython",
    "version": 3
   },
   "file_extension": ".py",
   "mimetype": "text/x-python",
   "name": "python",
   "nbconvert_exporter": "python",
   "pygments_lexer": "ipython3",
   "version": "3.13.6"
  }
 },
 "nbformat": 4,
 "nbformat_minor": 5
}
