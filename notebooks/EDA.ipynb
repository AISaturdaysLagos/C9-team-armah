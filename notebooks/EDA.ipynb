{
 "cells": [
  {
   "cell_type": "code",
   "execution_count": 1,
   "id": "51a44504",
   "metadata": {},
   "outputs": [],
   "source": [
    "import pandas as pd\n",
    "import numpy as np\n",
    "import matplotlib.pyplot as plt\n",
    "import seaborn as sns"
   ]
  },
  {
   "cell_type": "code",
   "execution_count": 2,
   "id": "f3bbc020",
   "metadata": {},
   "outputs": [
    {
     "data": {
      "application/vnd.microsoft.datawrangler.viewer.v0+json": {
       "columns": [
        {
         "name": "index",
         "rawType": "int64",
         "type": "integer"
        },
        {
         "name": "id",
         "rawType": "float64",
         "type": "float"
        },
        {
         "name": "authors",
         "rawType": "object",
         "type": "string"
        },
        {
         "name": "title",
         "rawType": "object",
         "type": "string"
        },
        {
         "name": "doi",
         "rawType": "object",
         "type": "unknown"
        },
        {
         "name": "category",
         "rawType": "object",
         "type": "string"
        },
        {
         "name": "abstract",
         "rawType": "object",
         "type": "string"
        }
       ],
       "ref": "e6309fa3-ed38-49b0-9a06-5fb1f5498101",
       "rows": [
        [
         "0",
         "704.0033",
         "Maxim A. Yurkin, Valeri P. Maltsev, Alfons G. Hoekstra",
         "Convergence of the discrete dipole approximation. I. Theoretical\n  analysis",
         "10.1364/JOSAA.23.002578 10.1364/JOSAA.32.002407",
         "['physics.optics', 'physics.comp-ph']",
         "  We performed a rigorous theoretical convergence analysis of the discrete\ndipole approximation (DDA). We prove that errors in any measured quantity are\nbounded by a sum of a linear and quadratic term in the size of a dipole d, when\nthe latter is in the range of DDA applicability. Moreover, the linear term is\nsignificantly smaller for cubically than for non-cubically shaped scatterers.\nTherefore, for small d errors for cubically shaped particles are much smaller\nthan for non-cubically shaped. The relative importance of the linear term\ndecreases with increasing size, hence convergence of DDA for large enough\nscatterers is quadratic in the common range of d. Extensive numerical\nsimulations were carried out for a wide range of d. Finally we discuss a number\nof new developments in DDA and their consequences for convergence.\n"
        ],
        [
         "1",
         "704.0038",
         "Maxim A. Yurkin, Alfons G. Hoekstra",
         "The discrete dipole approximation: an overview and recent developments",
         "10.1016/j.jqsrt.2007.01.034 10.1016/j.jqsrt.2015.11.025",
         "['physics.optics', 'physics.comp-ph']",
         "  We present a review of the discrete dipole approximation (DDA), which is a\ngeneral method to simulate light scattering by arbitrarily shaped particles. We\nput the method in historical context and discuss recent developments, taking\nthe viewpoint of a general framework based on the integral equations for the\nelectric field. We review both the theory of the DDA and its numerical aspects,\nthe latter being of critical importance for any practical application of the\nmethod. Finally, the position of the DDA among other methods of light\nscattering simulation is shown and possible future developments are discussed.\n"
        ],
        [
         "2",
         "704.0479",
         "T.Geisser",
         "The affine part of the Picard scheme",
         null,
         "['math.AG', 'math.KT']",
         "  We describe the maximal torus and maximal unipotent subgroup of the Picard\nvariety of a proper scheme over a perfect field.\n"
        ],
        [
         "3",
         "704.1445",
         "Yasha Gindikin and Vladimir A. Sablikov",
         "Deformed Wigner crystal in a one-dimensional quantum dot",
         "10.1103/PhysRevB.76.045122",
         "['cond-mat.str-el', 'cond-mat.mes-hall']",
         "  The spatial Fourier spectrum of the electron density distribution in a finite\n1D system and the distribution function of electrons over single-particle\nstates are studied in detail to show that there are two universal features in\ntheir behavior, which characterize the electron ordering and the deformation of\nWigner crystal by boundaries. The distribution function has a $\\delta$-like\nsingularity at the Fermi momentum $k_F$. The Fourier spectrum of the density\nhas a step-like form at the wavevector $2k_F$, with the harmonics being absent\nor vanishing above this threshold. These features are found by calculations\nusing exact diagonalization method. They are shown to be caused by Wigner\nordering of electrons, affected by the boundaries. However the common Luttinger\nliquid model with open boundaries fails to capture these features, because it\noverestimates the deformation of the Wigner crystal. An improvement of the\nLuttinger liquid model is proposed which allows one to describe the above\nfeatures correctly. It is based on the corrected form of the density operator\nconserving the particle number.\n"
        ],
        [
         "4",
         "704.1476",
         "Chris Austin",
         "TeV-scale gravity in Horava-Witten theory on a compact complex\n  hyperbolic threefold",
         null,
         "['hep-th']",
         "  The field equations and boundary conditions of Horava-Witten theory,\ncompactified on a smooth compact spin quotient of CH^3, where CH^3 denotes the\nhyperbolic cousin of CP^3, are studied in the presence of Casimir energy\ndensity terms. If the Casimir energy densities near one boundary result in a\ncertain constant of integration taking a value greater than around 10^5 in\nunits of the d = 11 gravitational length, a form of thick pipe geometry is\nfound that realizes TeV-scale gravity by the ADD mechanism, with that boundary\nbecoming the inner surface of the thick pipe, where we live. Three alternative\nways in which the outer surface of the thick pipe might be stabilized\nconsistent with the observed value of the effective d = 4 cosmological constant\nare considered. In the first alternative, the outer surface is stabilized in\nthe classical region and the constant of integration is fixed at around 10^{13}\nin units of the d = 11 gravitational length for consistency with the observed\ncosmological constant. In the second alternative, the four observed dimensions\nhave reduced in size down to the d = 11 gravitational length at the outer\nsurface, and there are Casimir effects near the outer surface. In the third\nalternative, the outer surface is stabilized in the classical region by extra\nfluxes of the three-form gauge field, whose four-form field strength wraps\nthree-cycles of the compact six-manifold times the radial dimension of the\nthick pipe. Some problems related to fitting the strong/electroweak Standard\nModel are considered.\n"
        ]
       ],
       "shape": {
        "columns": 6,
        "rows": 5
       }
      },
      "text/html": [
       "<div>\n",
       "<style scoped>\n",
       "    .dataframe tbody tr th:only-of-type {\n",
       "        vertical-align: middle;\n",
       "    }\n",
       "\n",
       "    .dataframe tbody tr th {\n",
       "        vertical-align: top;\n",
       "    }\n",
       "\n",
       "    .dataframe thead th {\n",
       "        text-align: right;\n",
       "    }\n",
       "</style>\n",
       "<table border=\"1\" class=\"dataframe\">\n",
       "  <thead>\n",
       "    <tr style=\"text-align: right;\">\n",
       "      <th></th>\n",
       "      <th>id</th>\n",
       "      <th>authors</th>\n",
       "      <th>title</th>\n",
       "      <th>doi</th>\n",
       "      <th>category</th>\n",
       "      <th>abstract</th>\n",
       "    </tr>\n",
       "  </thead>\n",
       "  <tbody>\n",
       "    <tr>\n",
       "      <th>0</th>\n",
       "      <td>704.0033</td>\n",
       "      <td>Maxim A. Yurkin, Valeri P. Maltsev, Alfons G. ...</td>\n",
       "      <td>Convergence of the discrete dipole approximati...</td>\n",
       "      <td>10.1364/JOSAA.23.002578 10.1364/JOSAA.32.002407</td>\n",
       "      <td>['physics.optics', 'physics.comp-ph']</td>\n",
       "      <td>We performed a rigorous theoretical converge...</td>\n",
       "    </tr>\n",
       "    <tr>\n",
       "      <th>1</th>\n",
       "      <td>704.0038</td>\n",
       "      <td>Maxim A. Yurkin, Alfons G. Hoekstra</td>\n",
       "      <td>The discrete dipole approximation: an overview...</td>\n",
       "      <td>10.1016/j.jqsrt.2007.01.034 10.1016/j.jqsrt.20...</td>\n",
       "      <td>['physics.optics', 'physics.comp-ph']</td>\n",
       "      <td>We present a review of the discrete dipole a...</td>\n",
       "    </tr>\n",
       "    <tr>\n",
       "      <th>2</th>\n",
       "      <td>704.0479</td>\n",
       "      <td>T.Geisser</td>\n",
       "      <td>The affine part of the Picard scheme</td>\n",
       "      <td>NaN</td>\n",
       "      <td>['math.AG', 'math.KT']</td>\n",
       "      <td>We describe the maximal torus and maximal un...</td>\n",
       "    </tr>\n",
       "    <tr>\n",
       "      <th>3</th>\n",
       "      <td>704.1445</td>\n",
       "      <td>Yasha Gindikin and Vladimir A. Sablikov</td>\n",
       "      <td>Deformed Wigner crystal in a one-dimensional q...</td>\n",
       "      <td>10.1103/PhysRevB.76.045122</td>\n",
       "      <td>['cond-mat.str-el', 'cond-mat.mes-hall']</td>\n",
       "      <td>The spatial Fourier spectrum of the electron...</td>\n",
       "    </tr>\n",
       "    <tr>\n",
       "      <th>4</th>\n",
       "      <td>704.1476</td>\n",
       "      <td>Chris Austin</td>\n",
       "      <td>TeV-scale gravity in Horava-Witten theory on a...</td>\n",
       "      <td>NaN</td>\n",
       "      <td>['hep-th']</td>\n",
       "      <td>The field equations and boundary conditions ...</td>\n",
       "    </tr>\n",
       "  </tbody>\n",
       "</table>\n",
       "</div>"
      ],
      "text/plain": [
       "         id                                            authors  \\\n",
       "0  704.0033  Maxim A. Yurkin, Valeri P. Maltsev, Alfons G. ...   \n",
       "1  704.0038                Maxim A. Yurkin, Alfons G. Hoekstra   \n",
       "2  704.0479                                          T.Geisser   \n",
       "3  704.1445            Yasha Gindikin and Vladimir A. Sablikov   \n",
       "4  704.1476                                       Chris Austin   \n",
       "\n",
       "                                               title  \\\n",
       "0  Convergence of the discrete dipole approximati...   \n",
       "1  The discrete dipole approximation: an overview...   \n",
       "2               The affine part of the Picard scheme   \n",
       "3  Deformed Wigner crystal in a one-dimensional q...   \n",
       "4  TeV-scale gravity in Horava-Witten theory on a...   \n",
       "\n",
       "                                                 doi  \\\n",
       "0    10.1364/JOSAA.23.002578 10.1364/JOSAA.32.002407   \n",
       "1  10.1016/j.jqsrt.2007.01.034 10.1016/j.jqsrt.20...   \n",
       "2                                                NaN   \n",
       "3                         10.1103/PhysRevB.76.045122   \n",
       "4                                                NaN   \n",
       "\n",
       "                                   category  \\\n",
       "0     ['physics.optics', 'physics.comp-ph']   \n",
       "1     ['physics.optics', 'physics.comp-ph']   \n",
       "2                    ['math.AG', 'math.KT']   \n",
       "3  ['cond-mat.str-el', 'cond-mat.mes-hall']   \n",
       "4                                ['hep-th']   \n",
       "\n",
       "                                            abstract  \n",
       "0    We performed a rigorous theoretical converge...  \n",
       "1    We present a review of the discrete dipole a...  \n",
       "2    We describe the maximal torus and maximal un...  \n",
       "3    The spatial Fourier spectrum of the electron...  \n",
       "4    The field equations and boundary conditions ...  "
      ]
     },
     "execution_count": 2,
     "metadata": {},
     "output_type": "execute_result"
    }
   ],
   "source": [
    "# Load the data\n",
    "df = pd.read_csv(\"../data/processed/trimmed_arxiv_doc_2018.csv\")\n",
    "df.head()"
   ]
  },
  {
   "cell_type": "code",
   "execution_count": 3,
   "id": "6d2b75ff",
   "metadata": {},
   "outputs": [
    {
     "name": "stdout",
     "output_type": "stream",
     "text": [
      "<class 'pandas.core.frame.DataFrame'>\n",
      "RangeIndex: 23 entries, 0 to 22\n",
      "Data columns (total 6 columns):\n",
      " #   Column    Non-Null Count  Dtype  \n",
      "---  ------    --------------  -----  \n",
      " 0   id        23 non-null     float64\n",
      " 1   authors   23 non-null     object \n",
      " 2   title     23 non-null     object \n",
      " 3   doi       9 non-null      object \n",
      " 4   category  23 non-null     object \n",
      " 5   abstract  23 non-null     object \n",
      "dtypes: float64(1), object(5)\n",
      "memory usage: 1.2+ KB\n"
     ]
    }
   ],
   "source": [
    "df.info()"
   ]
  },
  {
   "cell_type": "code",
   "execution_count": 4,
   "id": "274103bb",
   "metadata": {},
   "outputs": [
    {
     "data": {
      "text/plain": [
       "(23, 6)"
      ]
     },
     "execution_count": 4,
     "metadata": {},
     "output_type": "execute_result"
    }
   ],
   "source": [
    "df.shape"
   ]
  },
  {
   "cell_type": "code",
   "execution_count": 7,
   "id": "acb6fca8",
   "metadata": {},
   "outputs": [],
   "source": [
    "#Addint word counts of each abstract could be a usefull feature\n",
    "df['abstract_word_count'] = df['abstract'].apply(lambda x: len(x.strip().split())) "
   ]
  },
  {
   "cell_type": "code",
   "execution_count": 8,
   "id": "57c1a539",
   "metadata": {},
   "outputs": [
    {
     "data": {
      "application/vnd.microsoft.datawrangler.viewer.v0+json": {
       "columns": [
        {
         "name": "index",
         "rawType": "object",
         "type": "string"
        },
        {
         "name": "abstract",
         "rawType": "object",
         "type": "unknown"
        }
       ],
       "ref": "c7456c83-316b-481c-9309-84e7e1667409",
       "rows": [
        [
         "count",
         "1428006"
        ],
        [
         "unique",
         "1427761"
        ],
        [
         "top",
         "  arXiv admin note: This submission has been withdrawn by arXiv administrators\ndue to inflammatory content and unprofessional language\n"
        ],
        [
         "freq",
         "3"
        ]
       ],
       "shape": {
        "columns": 1,
        "rows": 4
       }
      },
      "text/plain": [
       "count                                               1428006\n",
       "unique                                              1427761\n",
       "top         arXiv admin note: This submission has been w...\n",
       "freq                                                      3\n",
       "Name: abstract, dtype: object"
      ]
     },
     "execution_count": 8,
     "metadata": {},
     "output_type": "execute_result"
    }
   ],
   "source": [
    "df['abstract'].describe(include='all')"
   ]
  },
  {
   "cell_type": "code",
   "execution_count": 9,
   "id": "9241e430",
   "metadata": {},
   "outputs": [
    {
     "data": {
      "application/vnd.microsoft.datawrangler.viewer.v0+json": {
       "columns": [
        {
         "name": "index",
         "rawType": "object",
         "type": "string"
        },
        {
         "name": "abstract",
         "rawType": "object",
         "type": "unknown"
        }
       ],
       "ref": "4306ab97-5c21-44cb-90e0-e26a9d72112e",
       "rows": [
        [
         "count",
         "1427761"
        ],
        [
         "unique",
         "1427761"
        ],
        [
         "top",
         "  We performed a rigorous theoretical convergence analysis of the discrete\ndipole approximation (DDA). We prove that errors in any measured quantity are\nbounded by a sum of a linear and quadratic term in the size of a dipole d, when\nthe latter is in the range of DDA applicability. Moreover, the linear term is\nsignificantly smaller for cubically than for non-cubically shaped scatterers.\nTherefore, for small d errors for cubically shaped particles are much smaller\nthan for non-cubically shaped. The relative importance of the linear term\ndecreases with increasing size, hence convergence of DDA for large enough\nscatterers is quadratic in the common range of d. Extensive numerical\nsimulations were carried out for a wide range of d. Finally we discuss a number\nof new developments in DDA and their consequences for convergence.\n"
        ],
        [
         "freq",
         "1"
        ]
       ],
       "shape": {
        "columns": 1,
        "rows": 4
       }
      },
      "text/plain": [
       "count                                               1427761\n",
       "unique                                              1427761\n",
       "top         We performed a rigorous theoretical converge...\n",
       "freq                                                      1\n",
       "Name: abstract, dtype: object"
      ]
     },
     "execution_count": 9,
     "metadata": {},
     "output_type": "execute_result"
    }
   ],
   "source": [
    "#There are duplicated abstracts, would be the best to get rid of these\n",
    "df.drop_duplicates(['abstract',], inplace=True)\n",
    "df['abstract'].describe(include='all')"
   ]
  },
  {
   "cell_type": "code",
   "execution_count": null,
   "id": "9a08eefc",
   "metadata": {},
   "outputs": [],
   "source": []
  }
 ],
 "metadata": {
  "kernelspec": {
   "display_name": ".venv (3.13.6)",
   "language": "python",
   "name": "python3"
  },
  "language_info": {
   "codemirror_mode": {
    "name": "ipython",
    "version": 3
   },
   "file_extension": ".py",
   "mimetype": "text/x-python",
   "name": "python",
   "nbconvert_exporter": "python",
   "pygments_lexer": "ipython3",
   "version": "3.13.6"
  }
 },
 "nbformat": 4,
 "nbformat_minor": 5
}
